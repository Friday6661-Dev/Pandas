{
  "nbformat": 4,
  "nbformat_minor": 0,
  "metadata": {
    "colab": {
      "name": "Homework 1 - Intermediate Dataframe I.ipynb",
      "provenance": [],
      "authorship_tag": "ABX9TyNP3pIdyNPwdNNfh4MTxumJ"
    },
    "kernelspec": {
      "name": "python3",
      "display_name": "Python 3"
    },
    "language_info": {
      "name": "python"
    },
    "accelerator": "GPU"
  },
  "cells": [
    {
      "cell_type": "code",
      "metadata": {
        "id": "cw4XWom68Xi_"
      },
      "source": [
        "import pandas as pd\n",
        "import numpy as np"
      ],
      "execution_count": 1,
      "outputs": []
    },
    {
      "cell_type": "code",
      "metadata": {
        "id": "oP3xxMKE9hjE"
      },
      "source": [
        "data1 = pd.read_csv('/content/HW19.csv')"
      ],
      "execution_count": 3,
      "outputs": []
    },
    {
      "cell_type": "code",
      "metadata": {
        "colab": {
          "base_uri": "https://localhost:8080/",
          "height": 204
        },
        "id": "aSPnkY8y9ovD",
        "outputId": "71e49460-872d-4b42-afbf-77da9c968a55"
      },
      "source": [
        "data1.head(5)"
      ],
      "execution_count": 4,
      "outputs": [
        {
          "output_type": "execute_result",
          "data": {
            "text/html": [
              "<div>\n",
              "<style scoped>\n",
              "    .dataframe tbody tr th:only-of-type {\n",
              "        vertical-align: middle;\n",
              "    }\n",
              "\n",
              "    .dataframe tbody tr th {\n",
              "        vertical-align: top;\n",
              "    }\n",
              "\n",
              "    .dataframe thead th {\n",
              "        text-align: right;\n",
              "    }\n",
              "</style>\n",
              "<table border=\"1\" class=\"dataframe\">\n",
              "  <thead>\n",
              "    <tr style=\"text-align: right;\">\n",
              "      <th></th>\n",
              "      <th>nim</th>\n",
              "      <th>nama</th>\n",
              "      <th>semester</th>\n",
              "      <th>mata_kuliah</th>\n",
              "      <th>nilai</th>\n",
              "    </tr>\n",
              "  </thead>\n",
              "  <tbody>\n",
              "    <tr>\n",
              "      <th>0</th>\n",
              "      <td>101621001</td>\n",
              "      <td>Rimala Kumar</td>\n",
              "      <td>6</td>\n",
              "      <td>Kecerdasan Buatan</td>\n",
              "      <td>74</td>\n",
              "    </tr>\n",
              "    <tr>\n",
              "      <th>1</th>\n",
              "      <td>101621001</td>\n",
              "      <td>Rimala Kumar</td>\n",
              "      <td>6</td>\n",
              "      <td>Pengolahan Citra Digital</td>\n",
              "      <td>73</td>\n",
              "    </tr>\n",
              "    <tr>\n",
              "      <th>2</th>\n",
              "      <td>101621001</td>\n",
              "      <td>Rimala Kumar</td>\n",
              "      <td>6</td>\n",
              "      <td>Sistem Informasi Geografis</td>\n",
              "      <td>67</td>\n",
              "    </tr>\n",
              "    <tr>\n",
              "      <th>3</th>\n",
              "      <td>101621001</td>\n",
              "      <td>Rimala Kumar</td>\n",
              "      <td>7</td>\n",
              "      <td>Pengantar Studi Pustaka</td>\n",
              "      <td>92</td>\n",
              "    </tr>\n",
              "    <tr>\n",
              "      <th>4</th>\n",
              "      <td>101621001</td>\n",
              "      <td>Rimala Kumar</td>\n",
              "      <td>7</td>\n",
              "      <td>Kolokium</td>\n",
              "      <td>92</td>\n",
              "    </tr>\n",
              "  </tbody>\n",
              "</table>\n",
              "</div>"
            ],
            "text/plain": [
              "         nim          nama  semester                 mata_kuliah  nilai\n",
              "0  101621001  Rimala Kumar         6           Kecerdasan Buatan     74\n",
              "1  101621001  Rimala Kumar         6    Pengolahan Citra Digital     73\n",
              "2  101621001  Rimala Kumar         6  Sistem Informasi Geografis     67\n",
              "3  101621001  Rimala Kumar         7     Pengantar Studi Pustaka     92\n",
              "4  101621001  Rimala Kumar         7                    Kolokium     92"
            ]
          },
          "metadata": {},
          "execution_count": 4
        }
      ]
    },
    {
      "cell_type": "markdown",
      "metadata": {
        "id": "iwvPsZ6O-C4e"
      },
      "source": [
        "##a. Menampilkan nim, nama, beserta semester berjalan untuk masing-masing mahasiswa dalam data1 yang terurut berdasarkan nim secara ascending.\n"
      ]
    },
    {
      "cell_type": "code",
      "metadata": {
        "colab": {
          "base_uri": "https://localhost:8080/",
          "height": 235
        },
        "id": "aYRWmcfk_ZpF",
        "outputId": "a7cd09c1-a523-4525-8e1b-b0447afd39fe"
      },
      "source": [
        "a = data1.groupby(['nim', 'nama']).agg(semester = ('semester', 'max'))\n",
        "a.head()"
      ],
      "execution_count": 5,
      "outputs": [
        {
          "output_type": "execute_result",
          "data": {
            "text/html": [
              "<div>\n",
              "<style scoped>\n",
              "    .dataframe tbody tr th:only-of-type {\n",
              "        vertical-align: middle;\n",
              "    }\n",
              "\n",
              "    .dataframe tbody tr th {\n",
              "        vertical-align: top;\n",
              "    }\n",
              "\n",
              "    .dataframe thead th {\n",
              "        text-align: right;\n",
              "    }\n",
              "</style>\n",
              "<table border=\"1\" class=\"dataframe\">\n",
              "  <thead>\n",
              "    <tr style=\"text-align: right;\">\n",
              "      <th></th>\n",
              "      <th></th>\n",
              "      <th>semester</th>\n",
              "    </tr>\n",
              "    <tr>\n",
              "      <th>nim</th>\n",
              "      <th>nama</th>\n",
              "      <th></th>\n",
              "    </tr>\n",
              "  </thead>\n",
              "  <tbody>\n",
              "    <tr>\n",
              "      <th>101621001</th>\n",
              "      <th>Rimala Kumar</th>\n",
              "      <td>8</td>\n",
              "    </tr>\n",
              "    <tr>\n",
              "      <th>101621002</th>\n",
              "      <th>Citra Tenggara</th>\n",
              "      <td>8</td>\n",
              "    </tr>\n",
              "    <tr>\n",
              "      <th>101621003</th>\n",
              "      <th>Rani Kumala</th>\n",
              "      <td>6</td>\n",
              "    </tr>\n",
              "    <tr>\n",
              "      <th>101621004</th>\n",
              "      <th>Junaedi</th>\n",
              "      <td>6</td>\n",
              "    </tr>\n",
              "    <tr>\n",
              "      <th>101621005</th>\n",
              "      <th>Kameela Malik</th>\n",
              "      <td>3</td>\n",
              "    </tr>\n",
              "  </tbody>\n",
              "</table>\n",
              "</div>"
            ],
            "text/plain": [
              "                          semester\n",
              "nim       nama                    \n",
              "101621001 Rimala Kumar           8\n",
              "101621002 Citra Tenggara         8\n",
              "101621003 Rani Kumala            6\n",
              "101621004 Junaedi                6\n",
              "101621005 Kameela Malik          3"
            ]
          },
          "metadata": {},
          "execution_count": 5
        }
      ]
    },
    {
      "cell_type": "markdown",
      "metadata": {
        "id": "emnS1fVmIlBU"
      },
      "source": [
        "##b. Menampilkan nilai rata-rata, nilai maksimal, dan nilai minimal kelas per semester yang diurutkan berdasarkan semester secara descending."
      ]
    },
    {
      "cell_type": "code",
      "metadata": {
        "colab": {
          "base_uri": "https://localhost:8080/",
          "height": 235
        },
        "id": "VlJ5m9G3HxDI",
        "outputId": "0f8fc4d7-a90f-4cb4-873d-bc81dfac5e2c"
      },
      "source": [
        "b = data1.groupby('semester').agg(\n",
        "    rata_rata = ('nilai', 'mean'),\n",
        "    maksimal = ('nilai', 'max'),\n",
        "    minimal = ('nilai', 'min')\n",
        ").sort_values(by='semester', ascending=False)\n",
        "b.head()"
      ],
      "execution_count": 6,
      "outputs": [
        {
          "output_type": "execute_result",
          "data": {
            "text/html": [
              "<div>\n",
              "<style scoped>\n",
              "    .dataframe tbody tr th:only-of-type {\n",
              "        vertical-align: middle;\n",
              "    }\n",
              "\n",
              "    .dataframe tbody tr th {\n",
              "        vertical-align: top;\n",
              "    }\n",
              "\n",
              "    .dataframe thead th {\n",
              "        text-align: right;\n",
              "    }\n",
              "</style>\n",
              "<table border=\"1\" class=\"dataframe\">\n",
              "  <thead>\n",
              "    <tr style=\"text-align: right;\">\n",
              "      <th></th>\n",
              "      <th>rata_rata</th>\n",
              "      <th>maksimal</th>\n",
              "      <th>minimal</th>\n",
              "    </tr>\n",
              "    <tr>\n",
              "      <th>semester</th>\n",
              "      <th></th>\n",
              "      <th></th>\n",
              "      <th></th>\n",
              "    </tr>\n",
              "  </thead>\n",
              "  <tbody>\n",
              "    <tr>\n",
              "      <th>8</th>\n",
              "      <td>91.500000</td>\n",
              "      <td>94</td>\n",
              "      <td>89</td>\n",
              "    </tr>\n",
              "    <tr>\n",
              "      <th>7</th>\n",
              "      <td>89.250000</td>\n",
              "      <td>92</td>\n",
              "      <td>86</td>\n",
              "    </tr>\n",
              "    <tr>\n",
              "      <th>6</th>\n",
              "      <td>77.545455</td>\n",
              "      <td>93</td>\n",
              "      <td>59</td>\n",
              "    </tr>\n",
              "    <tr>\n",
              "      <th>5</th>\n",
              "      <td>80.833333</td>\n",
              "      <td>91</td>\n",
              "      <td>53</td>\n",
              "    </tr>\n",
              "    <tr>\n",
              "      <th>4</th>\n",
              "      <td>67.000000</td>\n",
              "      <td>70</td>\n",
              "      <td>64</td>\n",
              "    </tr>\n",
              "  </tbody>\n",
              "</table>\n",
              "</div>"
            ],
            "text/plain": [
              "          rata_rata  maksimal  minimal\n",
              "semester                              \n",
              "8         91.500000        94       89\n",
              "7         89.250000        92       86\n",
              "6         77.545455        93       59\n",
              "5         80.833333        91       53\n",
              "4         67.000000        70       64"
            ]
          },
          "metadata": {},
          "execution_count": 6
        }
      ]
    },
    {
      "cell_type": "markdown",
      "metadata": {
        "id": "yfPKu7ZbKDPv"
      },
      "source": [
        "##c. Menampilkan nilai rata-rata, nilai maksimal, dan nilai minimal untuk setiap mata kuliah per semester yang diurutkan berdasarkan semester dan mata kuliah secara ascending."
      ]
    },
    {
      "cell_type": "code",
      "metadata": {
        "colab": {
          "base_uri": "https://localhost:8080/",
          "height": 328
        },
        "id": "vXmaJe01JnY8",
        "outputId": "7d4bcb80-edff-42c8-88df-d2a4a7c487dc"
      },
      "source": [
        "c = data1.groupby(['mata_kuliah', 'semester']).agg(\n",
        "    rata_rata = ('nilai', 'mean'),\n",
        "    maksimal = ('nilai', 'max'),\n",
        "    minimal = ('nilai', 'min')\n",
        ").sort_values(by=(['semester', 'mata_kuliah']), ascending=True)\n",
        "c.head(8)"
      ],
      "execution_count": 7,
      "outputs": [
        {
          "output_type": "execute_result",
          "data": {
            "text/html": [
              "<div>\n",
              "<style scoped>\n",
              "    .dataframe tbody tr th:only-of-type {\n",
              "        vertical-align: middle;\n",
              "    }\n",
              "\n",
              "    .dataframe tbody tr th {\n",
              "        vertical-align: top;\n",
              "    }\n",
              "\n",
              "    .dataframe thead th {\n",
              "        text-align: right;\n",
              "    }\n",
              "</style>\n",
              "<table border=\"1\" class=\"dataframe\">\n",
              "  <thead>\n",
              "    <tr style=\"text-align: right;\">\n",
              "      <th></th>\n",
              "      <th></th>\n",
              "      <th>rata_rata</th>\n",
              "      <th>maksimal</th>\n",
              "      <th>minimal</th>\n",
              "    </tr>\n",
              "    <tr>\n",
              "      <th>mata_kuliah</th>\n",
              "      <th>semester</th>\n",
              "      <th></th>\n",
              "      <th></th>\n",
              "      <th></th>\n",
              "    </tr>\n",
              "  </thead>\n",
              "  <tbody>\n",
              "    <tr>\n",
              "      <th>Dasar Komputer</th>\n",
              "      <th>1</th>\n",
              "      <td>88.500000</td>\n",
              "      <td>90</td>\n",
              "      <td>87</td>\n",
              "    </tr>\n",
              "    <tr>\n",
              "      <th>Ekonomi Umum</th>\n",
              "      <th>1</th>\n",
              "      <td>77.000000</td>\n",
              "      <td>86</td>\n",
              "      <td>68</td>\n",
              "    </tr>\n",
              "    <tr>\n",
              "      <th>Pengantar Matematika</th>\n",
              "      <th>1</th>\n",
              "      <td>63.666667</td>\n",
              "      <td>88</td>\n",
              "      <td>46</td>\n",
              "    </tr>\n",
              "    <tr>\n",
              "      <th>Kalkulus1</th>\n",
              "      <th>2</th>\n",
              "      <td>72.500000</td>\n",
              "      <td>87</td>\n",
              "      <td>58</td>\n",
              "    </tr>\n",
              "    <tr>\n",
              "      <th>Kewirausahaan</th>\n",
              "      <th>2</th>\n",
              "      <td>90.000000</td>\n",
              "      <td>90</td>\n",
              "      <td>90</td>\n",
              "    </tr>\n",
              "    <tr>\n",
              "      <th>Pengantar Statistika</th>\n",
              "      <th>2</th>\n",
              "      <td>64.500000</td>\n",
              "      <td>79</td>\n",
              "      <td>50</td>\n",
              "    </tr>\n",
              "    <tr>\n",
              "      <th>Algoritma Pemrograman</th>\n",
              "      <th>3</th>\n",
              "      <td>76.000000</td>\n",
              "      <td>76</td>\n",
              "      <td>76</td>\n",
              "    </tr>\n",
              "    <tr>\n",
              "      <th>Basis Data</th>\n",
              "      <th>3</th>\n",
              "      <td>79.500000</td>\n",
              "      <td>90</td>\n",
              "      <td>69</td>\n",
              "    </tr>\n",
              "  </tbody>\n",
              "</table>\n",
              "</div>"
            ],
            "text/plain": [
              "                                rata_rata  maksimal  minimal\n",
              "mata_kuliah           semester                              \n",
              "Dasar Komputer        1         88.500000        90       87\n",
              "Ekonomi Umum          1         77.000000        86       68\n",
              "Pengantar Matematika  1         63.666667        88       46\n",
              "Kalkulus1             2         72.500000        87       58\n",
              "Kewirausahaan         2         90.000000        90       90\n",
              "Pengantar Statistika  2         64.500000        79       50\n",
              "Algoritma Pemrograman 3         76.000000        76       76\n",
              "Basis Data            3         79.500000        90       69"
            ]
          },
          "metadata": {},
          "execution_count": 7
        }
      ]
    },
    {
      "cell_type": "markdown",
      "metadata": {
        "id": "Z4jcloWXLaF-"
      },
      "source": [
        "##d. Menampilkan nilai rata-rata, nilai maksimal, dan nilai minimal untuk setiap mahasiswa dan setiap semester yang diurutkan berdasarkan NIM secara ascending."
      ]
    },
    {
      "cell_type": "code",
      "metadata": {
        "colab": {
          "base_uri": "https://localhost:8080/",
          "height": 638
        },
        "id": "UlX_zsvTK0iN",
        "outputId": "9f8905a1-db55-499b-c5f4-0cf6e216facf"
      },
      "source": [
        "d = data1.groupby(['nim', 'nama', 'semester']).agg(\n",
        "    rata_rata = ('nilai', 'mean'),\n",
        "    maksimal = ('nilai', 'max'),\n",
        "    minimal = ('nilai', 'min')\n",
        ").sort_values(by=(['nim']), ascending=True)\n",
        "d.head(20)"
      ],
      "execution_count": 8,
      "outputs": [
        {
          "output_type": "execute_result",
          "data": {
            "text/html": [
              "<div>\n",
              "<style scoped>\n",
              "    .dataframe tbody tr th:only-of-type {\n",
              "        vertical-align: middle;\n",
              "    }\n",
              "\n",
              "    .dataframe tbody tr th {\n",
              "        vertical-align: top;\n",
              "    }\n",
              "\n",
              "    .dataframe thead th {\n",
              "        text-align: right;\n",
              "    }\n",
              "</style>\n",
              "<table border=\"1\" class=\"dataframe\">\n",
              "  <thead>\n",
              "    <tr style=\"text-align: right;\">\n",
              "      <th></th>\n",
              "      <th></th>\n",
              "      <th></th>\n",
              "      <th>rata_rata</th>\n",
              "      <th>maksimal</th>\n",
              "      <th>minimal</th>\n",
              "    </tr>\n",
              "    <tr>\n",
              "      <th>nim</th>\n",
              "      <th>nama</th>\n",
              "      <th>semester</th>\n",
              "      <th></th>\n",
              "      <th></th>\n",
              "      <th></th>\n",
              "    </tr>\n",
              "  </thead>\n",
              "  <tbody>\n",
              "    <tr>\n",
              "      <th rowspan=\"3\" valign=\"top\">101621001</th>\n",
              "      <th rowspan=\"3\" valign=\"top\">Rimala Kumar</th>\n",
              "      <th>6</th>\n",
              "      <td>71.333333</td>\n",
              "      <td>74</td>\n",
              "      <td>67</td>\n",
              "    </tr>\n",
              "    <tr>\n",
              "      <th>7</th>\n",
              "      <td>92.000000</td>\n",
              "      <td>92</td>\n",
              "      <td>92</td>\n",
              "    </tr>\n",
              "    <tr>\n",
              "      <th>8</th>\n",
              "      <td>89.000000</td>\n",
              "      <td>89</td>\n",
              "      <td>89</td>\n",
              "    </tr>\n",
              "    <tr>\n",
              "      <th rowspan=\"3\" valign=\"top\">101621002</th>\n",
              "      <th rowspan=\"3\" valign=\"top\">Citra Tenggara</th>\n",
              "      <th>6</th>\n",
              "      <td>84.500000</td>\n",
              "      <td>93</td>\n",
              "      <td>75</td>\n",
              "    </tr>\n",
              "    <tr>\n",
              "      <th>7</th>\n",
              "      <td>86.500000</td>\n",
              "      <td>87</td>\n",
              "      <td>86</td>\n",
              "    </tr>\n",
              "    <tr>\n",
              "      <th>8</th>\n",
              "      <td>94.000000</td>\n",
              "      <td>94</td>\n",
              "      <td>94</td>\n",
              "    </tr>\n",
              "    <tr>\n",
              "      <th rowspan=\"2\" valign=\"top\">101621003</th>\n",
              "      <th rowspan=\"2\" valign=\"top\">Rani Kumala</th>\n",
              "      <th>5</th>\n",
              "      <td>89.333333</td>\n",
              "      <td>91</td>\n",
              "      <td>87</td>\n",
              "    </tr>\n",
              "    <tr>\n",
              "      <th>6</th>\n",
              "      <td>81.500000</td>\n",
              "      <td>82</td>\n",
              "      <td>81</td>\n",
              "    </tr>\n",
              "    <tr>\n",
              "      <th rowspan=\"2\" valign=\"top\">101621004</th>\n",
              "      <th rowspan=\"2\" valign=\"top\">Junaedi</th>\n",
              "      <th>6</th>\n",
              "      <td>69.000000</td>\n",
              "      <td>79</td>\n",
              "      <td>59</td>\n",
              "    </tr>\n",
              "    <tr>\n",
              "      <th>5</th>\n",
              "      <td>72.333333</td>\n",
              "      <td>84</td>\n",
              "      <td>53</td>\n",
              "    </tr>\n",
              "    <tr>\n",
              "      <th rowspan=\"3\" valign=\"top\">101621005</th>\n",
              "      <th rowspan=\"3\" valign=\"top\">Kameela Malik</th>\n",
              "      <th>1</th>\n",
              "      <td>46.000000</td>\n",
              "      <td>46</td>\n",
              "      <td>46</td>\n",
              "    </tr>\n",
              "    <tr>\n",
              "      <th>2</th>\n",
              "      <td>66.000000</td>\n",
              "      <td>90</td>\n",
              "      <td>50</td>\n",
              "    </tr>\n",
              "    <tr>\n",
              "      <th>3</th>\n",
              "      <td>67.500000</td>\n",
              "      <td>69</td>\n",
              "      <td>66</td>\n",
              "    </tr>\n",
              "    <tr>\n",
              "      <th rowspan=\"2\" valign=\"top\">101621006</th>\n",
              "      <th rowspan=\"2\" valign=\"top\">Ajeng Jameela</th>\n",
              "      <th>3</th>\n",
              "      <td>81.333333</td>\n",
              "      <td>90</td>\n",
              "      <td>76</td>\n",
              "    </tr>\n",
              "    <tr>\n",
              "      <th>4</th>\n",
              "      <td>67.000000</td>\n",
              "      <td>70</td>\n",
              "      <td>64</td>\n",
              "    </tr>\n",
              "    <tr>\n",
              "      <th>101621007</th>\n",
              "      <th>Dodi Adiyat</th>\n",
              "      <th>1</th>\n",
              "      <td>70.666667</td>\n",
              "      <td>87</td>\n",
              "      <td>57</td>\n",
              "    </tr>\n",
              "    <tr>\n",
              "      <th rowspan=\"2\" valign=\"top\">101621008</th>\n",
              "      <th rowspan=\"2\" valign=\"top\">Lora Zanara</th>\n",
              "      <th>1</th>\n",
              "      <td>88.000000</td>\n",
              "      <td>90</td>\n",
              "      <td>86</td>\n",
              "    </tr>\n",
              "    <tr>\n",
              "      <th>2</th>\n",
              "      <td>83.000000</td>\n",
              "      <td>87</td>\n",
              "      <td>79</td>\n",
              "    </tr>\n",
              "  </tbody>\n",
              "</table>\n",
              "</div>"
            ],
            "text/plain": [
              "                                   rata_rata  maksimal  minimal\n",
              "nim       nama           semester                              \n",
              "101621001 Rimala Kumar   6         71.333333        74       67\n",
              "                         7         92.000000        92       92\n",
              "                         8         89.000000        89       89\n",
              "101621002 Citra Tenggara 6         84.500000        93       75\n",
              "                         7         86.500000        87       86\n",
              "                         8         94.000000        94       94\n",
              "101621003 Rani Kumala    5         89.333333        91       87\n",
              "                         6         81.500000        82       81\n",
              "101621004 Junaedi        6         69.000000        79       59\n",
              "                         5         72.333333        84       53\n",
              "101621005 Kameela Malik  1         46.000000        46       46\n",
              "                         2         66.000000        90       50\n",
              "                         3         67.500000        69       66\n",
              "101621006 Ajeng Jameela  3         81.333333        90       76\n",
              "                         4         67.000000        70       64\n",
              "101621007 Dodi Adiyat    1         70.666667        87       57\n",
              "101621008 Lora Zanara    1         88.000000        90       86\n",
              "                         2         83.000000        87       79"
            ]
          },
          "metadata": {},
          "execution_count": 8
        }
      ]
    },
    {
      "cell_type": "markdown",
      "metadata": {
        "id": "T3Rso8jJM-6w"
      },
      "source": [
        "### **Created by** : Jamaludin Arif Rohman"
      ]
    },
    {
      "cell_type": "code",
      "metadata": {
        "id": "BWxtN-EgMNbM"
      },
      "source": [
        ""
      ],
      "execution_count": null,
      "outputs": []
    }
  ]
}